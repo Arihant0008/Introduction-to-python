{
  "nbformat": 4,
  "nbformat_minor": 0,
  "metadata": {
    "colab": {
      "provenance": []
    },
    "kernelspec": {
      "name": "python3",
      "display_name": "Python 3"
    },
    "language_info": {
      "name": "python"
    }
  },
  "cells": [
    {
      "cell_type": "code",
      "execution_count": 2,
      "metadata": {
        "colab": {
          "base_uri": "https://localhost:8080/"
        },
        "id": "xIrDzGEC9IDx",
        "outputId": "408ccee1-a016-4b98-c0f2-4791a4a71283"
      },
      "outputs": [
        {
          "output_type": "stream",
          "name": "stdout",
          "text": [
            "set()\n"
          ]
        }
      ],
      "source": [
        "# Hashsets\n",
        "\n",
        "s = set()\n",
        "print(s)"
      ]
    },
    {
      "cell_type": "code",
      "source": [
        "# Add item into Set - O(1)\n",
        "s.add(1)\n",
        "s.add(2)\n",
        "s.add(3)\n",
        "\n",
        "print(s)"
      ],
      "metadata": {
        "colab": {
          "base_uri": "https://localhost:8080/"
        },
        "id": "67nPv_Ka98eu",
        "outputId": "421b2312-ad47-4ce7-937c-89e90776f6ed"
      },
      "execution_count": 3,
      "outputs": [
        {
          "output_type": "stream",
          "name": "stdout",
          "text": [
            "{1, 2, 3}\n"
          ]
        }
      ]
    },
    {
      "cell_type": "code",
      "source": [
        "# Lookup if item in set - O(1)\n",
        "if 1 not in s:\n",
        "  print(True)"
      ],
      "metadata": {
        "id": "YG4iR3ig-K5Q"
      },
      "execution_count": 4,
      "outputs": []
    },
    {
      "cell_type": "code",
      "source": [
        "# Remove item from set - O(1)\n",
        "s.remove(3)\n",
        "\n",
        "print(s)"
      ],
      "metadata": {
        "colab": {
          "base_uri": "https://localhost:8080/"
        },
        "id": "JQSMRLA0-fEp",
        "outputId": "47fcaec6-ed36-4893-c25d-98c334a33abf"
      },
      "execution_count": 5,
      "outputs": [
        {
          "output_type": "stream",
          "name": "stdout",
          "text": [
            "{1, 2}\n"
          ]
        }
      ]
    },
    {
      "cell_type": "code",
      "source": [
        "# Set construction - O(S) - S is the length of the string\n",
        "string = 'aaaaaaabbbbbbbbbbbccccccccceeeeeeeee'\n",
        "sett = set(string)\n",
        "\n",
        "sett"
      ],
      "metadata": {
        "colab": {
          "base_uri": "https://localhost:8080/"
        },
        "id": "RkxoAEjU-sYJ",
        "outputId": "75d16b59-a0a0-4a7e-899b-416bf50efd78"
      },
      "execution_count": 6,
      "outputs": [
        {
          "output_type": "execute_result",
          "data": {
            "text/plain": [
              "{'a', 'b', 'c', 'e'}"
            ]
          },
          "metadata": {},
          "execution_count": 6
        }
      ]
    },
    {
      "cell_type": "code",
      "source": [
        "# Loop over items in set - O(n)\n",
        "for x in s:\n",
        "  print(x)"
      ],
      "metadata": {
        "colab": {
          "base_uri": "https://localhost:8080/"
        },
        "id": "VSOIxmqk_WTV",
        "outputId": "d6224e95-ed7f-4e86-c2fd-baf84993eea9"
      },
      "execution_count": null,
      "outputs": [
        {
          "output_type": "stream",
          "name": "stdout",
          "text": [
            "1\n",
            "2\n"
          ]
        }
      ]
    },
    {
      "cell_type": "code",
      "source": [
        "# Hashmaps - Dictionaries\n",
        "\n",
        "d = {'greg': 1, 'steve': 2, 'rob': 3}\n",
        "\n",
        "print(d)"
      ],
      "metadata": {
        "colab": {
          "base_uri": "https://localhost:8080/"
        },
        "id": "Qa4O32ah_wPv",
        "outputId": "316fd74f-29ee-4137-c907-7fd9967daa0e"
      },
      "execution_count": null,
      "outputs": [
        {
          "output_type": "stream",
          "name": "stdout",
          "text": [
            "{'greg': 1, 'steve': 2, 'rob': 3}\n"
          ]
        }
      ]
    },
    {
      "cell_type": "code",
      "source": [
        "# Add key:val in dictionary: O(1)\n",
        "d['arsh'] = 4\n",
        "\n",
        "print(d)"
      ],
      "metadata": {
        "colab": {
          "base_uri": "https://localhost:8080/"
        },
        "id": "Qt1ltzeMAPkz",
        "outputId": "62ca9aa4-db66-407c-ff0f-7bb034d23553"
      },
      "execution_count": null,
      "outputs": [
        {
          "output_type": "stream",
          "name": "stdout",
          "text": [
            "{'greg': 1, 'steve': 2, 'rob': 3, 'arsh': 4}\n"
          ]
        }
      ]
    },
    {
      "cell_type": "code",
      "source": [
        "# Check for presence of key in dictionary: O(1)\n",
        "if 'greg' in d:\n",
        "  print(True)"
      ],
      "metadata": {
        "colab": {
          "base_uri": "https://localhost:8080/"
        },
        "id": "6DA5u-jKAXjh",
        "outputId": "82a57342-0a19-413a-9c51-2717bf14f0db"
      },
      "execution_count": null,
      "outputs": [
        {
          "output_type": "stream",
          "name": "stdout",
          "text": [
            "True\n"
          ]
        }
      ]
    },
    {
      "cell_type": "code",
      "source": [
        "# Check the value corresponding to a key in the dictionary: O(1)\n",
        "print(d['greg'])"
      ],
      "metadata": {
        "colab": {
          "base_uri": "https://localhost:8080/"
        },
        "id": "c94jF_iZAfpA",
        "outputId": "e1f5d47a-6445-4ce7-e726-d679c73c5370"
      },
      "execution_count": null,
      "outputs": [
        {
          "output_type": "stream",
          "name": "stdout",
          "text": [
            "1\n"
          ]
        }
      ]
    },
    {
      "cell_type": "code",
      "source": [
        "# Loop over the key:val pairs of the dictionary: O(n)\n",
        "for key, val in d.items():\n",
        "  print(f'key {key}: val {val}')"
      ],
      "metadata": {
        "colab": {
          "base_uri": "https://localhost:8080/"
        },
        "id": "N-X5FGK3At08",
        "outputId": "9f77df1d-1d08-4cd2-f463-757318686324"
      },
      "execution_count": null,
      "outputs": [
        {
          "output_type": "stream",
          "name": "stdout",
          "text": [
            "key greg: val 1\n",
            "key steve: val 2\n",
            "key rob: val 3\n",
            "key arsh: val 4\n"
          ]
        }
      ]
    },
    {
      "cell_type": "code",
      "source": [
        "# Defaultdict\n",
        "\n",
        "from collections import defaultdict\n",
        "\n",
        "default = defaultdict(list)\n",
        "\n",
        "default[2]"
      ],
      "metadata": {
        "colab": {
          "base_uri": "https://localhost:8080/"
        },
        "id": "b0aVRGmnBSta",
        "outputId": "314ec3aa-3135-4769-ea83-fe2af5dba355"
      },
      "execution_count": null,
      "outputs": [
        {
          "output_type": "execute_result",
          "data": {
            "text/plain": [
              "[]"
            ]
          },
          "metadata": {},
          "execution_count": 26
        }
      ]
    },
    {
      "cell_type": "code",
      "source": [
        "default"
      ],
      "metadata": {
        "colab": {
          "base_uri": "https://localhost:8080/"
        },
        "id": "tYWsT4UBB2wX",
        "outputId": "64a00662-4c99-42b2-e419-ce5afb28806f"
      },
      "execution_count": null,
      "outputs": [
        {
          "output_type": "execute_result",
          "data": {
            "text/plain": [
              "defaultdict(list, {2: []})"
            ]
          },
          "metadata": {},
          "execution_count": 27
        }
      ]
    },
    {
      "cell_type": "code",
      "source": [
        "# Counter\n",
        "from collections import Counter\n",
        "\n",
        "counter = Counter(string)\n",
        "\n",
        "print(counter)"
      ],
      "metadata": {
        "colab": {
          "base_uri": "https://localhost:8080/"
        },
        "id": "p_oTXElwB89U",
        "outputId": "de692dc0-5a4a-4874-b380-9c0ab2c5ee3e"
      },
      "execution_count": null,
      "outputs": [
        {
          "output_type": "stream",
          "name": "stdout",
          "text": [
            "Counter({'b': 11, 'c': 9, 'e': 9, 'a': 7})\n"
          ]
        }
      ]
    },
    {
      "cell_type": "code",
      "source": [],
      "metadata": {
        "id": "YM5y0IXnCOZm"
      },
      "execution_count": null,
      "outputs": []
    }
  ]
}