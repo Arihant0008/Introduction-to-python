{
  "nbformat": 4,
  "nbformat_minor": 0,
  "metadata": {
    "colab": {
      "provenance": [],
      "authorship_tag": "ABX9TyNjQLQqhzY9sdbfFehSSAv4"
    },
    "kernelspec": {
      "name": "python3",
      "display_name": "Python 3"
    },
    "language_info": {
      "name": "python"
    }
  },
  "cells": [
    {
      "cell_type": "code",
      "execution_count": 1,
      "metadata": {
        "colab": {
          "base_uri": "https://localhost:8080/"
        },
        "id": "JiPR08cHcbGS",
        "outputId": "03fb1122-ca92-4aee-8948-dbcfe64e36ca"
      },
      "outputs": [
        {
          "output_type": "stream",
          "name": "stdout",
          "text": [
            "1001\n"
          ]
        }
      ],
      "source": [
        "def conver2binary(num):\n",
        "    result = \"\"\n",
        "\n",
        "    while num > 0:\n",
        "\n",
        "        if num % 2 == 1:\n",
        "            result += \"1\"\n",
        "        else:\n",
        "            result += \"0\"\n",
        "        num = num//2\n",
        "    result = result[::-1]\n",
        "    return result\n",
        "print(conver2binary(9))"
      ]
    },
    {
      "cell_type": "code",
      "source": [
        "def covert2decimal(num):\n",
        "  d_number = 0\n",
        "  power = 0\n",
        "  index = len(num) - 1\n",
        "  while index >= 0:\n",
        "    x = int(num[index]) * 2**(power)\n",
        "\n",
        "    d_number += x\n",
        "    index -= 1\n",
        "    power += 1\n",
        "  return d_number\n",
        "print(covert2decimal(\"1001\"))"
      ],
      "metadata": {
        "colab": {
          "base_uri": "https://localhost:8080/"
        },
        "id": "bQVbbZTOcgLt",
        "outputId": "eed12e20-0e98-41b7-e7d5-cf5294c45b33"
      },
      "execution_count": 6,
      "outputs": [
        {
          "output_type": "stream",
          "name": "stdout",
          "text": [
            "9\n"
          ]
        }
      ]
    },
    {
      "cell_type": "code",
      "source": [
        "x = 13\n",
        "y = 5\n",
        "print(x & y)"
      ],
      "metadata": {
        "colab": {
          "base_uri": "https://localhost:8080/"
        },
        "id": "RAjidN_zdic4",
        "outputId": "66ab3918-fd11-416b-e7e2-cf8e45aaac0c"
      },
      "execution_count": 8,
      "outputs": [
        {
          "output_type": "stream",
          "name": "stdout",
          "text": [
            "5\n"
          ]
        }
      ]
    },
    {
      "cell_type": "code",
      "source": [
        "x = 13\n",
        "y = 5\n",
        "print(x | y)"
      ],
      "metadata": {
        "colab": {
          "base_uri": "https://localhost:8080/"
        },
        "id": "hQFgvAF0euPT",
        "outputId": "e8f1725c-8e21-434d-96c9-8a75c2d1384d"
      },
      "execution_count": 9,
      "outputs": [
        {
          "output_type": "stream",
          "name": "stdout",
          "text": [
            "13\n"
          ]
        }
      ]
    },
    {
      "cell_type": "code",
      "source": [
        "x = 13\n",
        "y = 5\n",
        "print(x ^ y)"
      ],
      "metadata": {
        "colab": {
          "base_uri": "https://localhost:8080/"
        },
        "id": "PwJvi4Pfe331",
        "outputId": "55a7e388-be46-469f-afa2-5b5dd2629da1"
      },
      "execution_count": 10,
      "outputs": [
        {
          "output_type": "stream",
          "name": "stdout",
          "text": [
            "8\n"
          ]
        }
      ]
    },
    {
      "cell_type": "code",
      "source": [
        "x = 13 >> 1\n",
        "print(x)"
      ],
      "metadata": {
        "colab": {
          "base_uri": "https://localhost:8080/"
        },
        "id": "mQNWy095e9M5",
        "outputId": "223d8385-e599-4d6b-f633-09e75860b7a4"
      },
      "execution_count": 12,
      "outputs": [
        {
          "output_type": "stream",
          "name": "stdout",
          "text": [
            "6\n"
          ]
        }
      ]
    },
    {
      "cell_type": "code",
      "source": [
        "x = 13 << 1\n",
        "print(x)"
      ],
      "metadata": {
        "colab": {
          "base_uri": "https://localhost:8080/"
        },
        "id": "v5EiPsm6fHd9",
        "outputId": "5b30123a-a0e7-41bb-e414-a636aa608e57"
      },
      "execution_count": 13,
      "outputs": [
        {
          "output_type": "stream",
          "name": "stdout",
          "text": [
            "26\n"
          ]
        }
      ]
    },
    {
      "cell_type": "code",
      "source": [
        "x = ~(13)\n",
        "print(x)"
      ],
      "metadata": {
        "colab": {
          "base_uri": "https://localhost:8080/"
        },
        "id": "_RYhu5fYfX8H",
        "outputId": "d366134f-6f0c-437c-a510-32bf7a3c1bbf"
      },
      "execution_count": 14,
      "outputs": [
        {
          "output_type": "stream",
          "name": "stdout",
          "text": [
            "-14\n"
          ]
        }
      ]
    },
    {
      "cell_type": "code",
      "source": [
        "x = ~(11)\n",
        "print(x)"
      ],
      "metadata": {
        "colab": {
          "base_uri": "https://localhost:8080/"
        },
        "id": "7JZlVAx8gAv1",
        "outputId": "8295eff1-fe2a-4f26-a4e2-4e91f5940fc9"
      },
      "execution_count": 15,
      "outputs": [
        {
          "output_type": "stream",
          "name": "stdout",
          "text": [
            "-12\n"
          ]
        }
      ]
    },
    {
      "cell_type": "code",
      "source": [
        "a = 5\n",
        "b = 10\n",
        "a = a ^ b\n",
        "b = a ^ b\n",
        "a = a ^ b\n",
        "print(\"a ->\",a)\n",
        "print(\"b ->\",b)"
      ],
      "metadata": {
        "colab": {
          "base_uri": "https://localhost:8080/"
        },
        "id": "jyeJKH1ngQk5",
        "outputId": "8ff6ed44-060e-4f99-ca84-c4730dfaf0a4"
      },
      "execution_count": 17,
      "outputs": [
        {
          "output_type": "stream",
          "name": "stdout",
          "text": [
            "a -> 10\n",
            "b -> 5\n"
          ]
        }
      ]
    },
    {
      "cell_type": "markdown",
      "source": [
        "bit set or not"
      ],
      "metadata": {
        "id": "NwpvVaZshekZ"
      }
    },
    {
      "cell_type": "code",
      "source": [
        "x = 11 # 1011\n",
        "i = 2\n",
        "print(x & (1<<i) != 0)"
      ],
      "metadata": {
        "colab": {
          "base_uri": "https://localhost:8080/"
        },
        "id": "53wxBkdAhKgB",
        "outputId": "64617a1c-75b0-4cf5-d8b9-1626b5158d57"
      },
      "execution_count": 22,
      "outputs": [
        {
          "output_type": "stream",
          "name": "stdout",
          "text": [
            "False\n"
          ]
        }
      ]
    },
    {
      "cell_type": "code",
      "source": [
        "x = 11 # 1011\n",
        "i = 1\n",
        "print((x>>i)& 1 == 1)"
      ],
      "metadata": {
        "colab": {
          "base_uri": "https://localhost:8080/"
        },
        "id": "P2LC1D-th2ch",
        "outputId": "2d8a2c31-817b-43b8-cb2e-b7cb58c67442"
      },
      "execution_count": 26,
      "outputs": [
        {
          "output_type": "stream",
          "name": "stdout",
          "text": [
            "True\n"
          ]
        }
      ]
    },
    {
      "cell_type": "markdown",
      "source": [
        "bit set\n"
      ],
      "metadata": {
        "id": "9a6vdMgxiVuX"
      }
    },
    {
      "cell_type": "code",
      "source": [
        "x = 11 # 1011\n",
        "i = 2\n",
        "print(x | (1<<i))"
      ],
      "metadata": {
        "colab": {
          "base_uri": "https://localhost:8080/"
        },
        "id": "Wc4b7jX9iKLO",
        "outputId": "5f39b7dc-3cc7-4514-9c52-daa31cba708e"
      },
      "execution_count": 28,
      "outputs": [
        {
          "output_type": "stream",
          "name": "stdout",
          "text": [
            "15\n"
          ]
        }
      ]
    },
    {
      "cell_type": "markdown",
      "source": [
        "clear ith bit"
      ],
      "metadata": {
        "id": "dlTVt0m-iwt5"
      }
    },
    {
      "cell_type": "code",
      "source": [
        "x = 11 # 1011\n",
        "i = 1\n",
        "print(x & ~(1<<i))"
      ],
      "metadata": {
        "colab": {
          "base_uri": "https://localhost:8080/"
        },
        "id": "rlFs_HxVirxD",
        "outputId": "3cae10b1-da81-4088-f8c1-d7af91848495"
      },
      "execution_count": 30,
      "outputs": [
        {
          "output_type": "stream",
          "name": "stdout",
          "text": [
            "9\n"
          ]
        }
      ]
    },
    {
      "cell_type": "markdown",
      "source": [
        "toggle ith bit"
      ],
      "metadata": {
        "id": "usX5rADVjqi5"
      }
    },
    {
      "cell_type": "code",
      "source": [
        "x = 11 # 1011\n",
        "i = 2\n",
        "print(x ^ (1<<i))"
      ],
      "metadata": {
        "colab": {
          "base_uri": "https://localhost:8080/"
        },
        "id": "rgqlKhhHjQBd",
        "outputId": "730dcb59-0840-4b87-f5b7-8d75c64bd10d"
      },
      "execution_count": 32,
      "outputs": [
        {
          "output_type": "stream",
          "name": "stdout",
          "text": [
            "15\n"
          ]
        }
      ]
    },
    {
      "cell_type": "markdown",
      "source": [
        "Remove last set bit"
      ],
      "metadata": {
        "id": "Cf9ewu9Tj81o"
      }
    },
    {
      "cell_type": "code",
      "source": [
        "N = 12\n",
        "print(N & (N-1))"
      ],
      "metadata": {
        "colab": {
          "base_uri": "https://localhost:8080/"
        },
        "id": "S5-quvk6j0iK",
        "outputId": "af8e165c-eada-48d3-f535-09064ade2239"
      },
      "execution_count": 35,
      "outputs": [
        {
          "output_type": "stream",
          "name": "stdout",
          "text": [
            "8\n"
          ]
        }
      ]
    },
    {
      "cell_type": "markdown",
      "source": [
        "check if no is power of 2"
      ],
      "metadata": {
        "id": "QNZWhCJdkTbw"
      }
    },
    {
      "cell_type": "code",
      "source": [
        "N = 16\n",
        "print(N & N-1 == 0 )"
      ],
      "metadata": {
        "colab": {
          "base_uri": "https://localhost:8080/"
        },
        "id": "Thvq7cRmkJYl",
        "outputId": "cf31229e-c9ce-4b73-f4df-a5b994f5811d"
      },
      "execution_count": 37,
      "outputs": [
        {
          "output_type": "stream",
          "name": "stdout",
          "text": [
            "True\n"
          ]
        }
      ]
    },
    {
      "cell_type": "code",
      "source": [
        "start = 10\n",
        "end = 7\n",
        "ans = start ^ end\n",
        "print(ans.bit_count())"
      ],
      "metadata": {
        "colab": {
          "base_uri": "https://localhost:8080/"
        },
        "id": "nwNakLMSkklA",
        "outputId": "039373be-09f0-4800-bd53-75c121baeb42"
      },
      "execution_count": 40,
      "outputs": [
        {
          "output_type": "stream",
          "name": "stdout",
          "text": [
            "3\n"
          ]
        }
      ]
    },
    {
      "cell_type": "code",
      "source": [
        "arr = [1,2,3,2,1]\n",
        "\n",
        "ans = 0\n",
        "for i in arr:\n",
        "  ans = ans ^ i\n",
        "print(ans)"
      ],
      "metadata": {
        "colab": {
          "base_uri": "https://localhost:8080/"
        },
        "id": "YSRSOOzqlIQC",
        "outputId": "fe901459-e58f-460e-85d1-e3b3a76be18b"
      },
      "execution_count": 42,
      "outputs": [
        {
          "output_type": "stream",
          "name": "stdout",
          "text": [
            "3\n"
          ]
        }
      ]
    }
  ]
}